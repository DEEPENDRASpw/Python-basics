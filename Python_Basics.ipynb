{
  "nbformat": 4,
  "nbformat_minor": 0,
  "metadata": {
    "colab": {
      "provenance": []
    },
    "kernelspec": {
      "name": "python3",
      "display_name": "Python 3"
    },
    "language_info": {
      "name": "python"
    }
  },
  "cells": [
    {
      "cell_type": "markdown",
      "source": [
        "#Python Basics Questions"
      ],
      "metadata": {
        "id": "jRO5linC2FF9"
      }
    },
    {
      "cell_type": "markdown",
      "source": [
        "1. What is Python, and why is it popular?\n",
        "   -> Python is a high-level, interpreted programming language known for its simplicity and readability. Designed with an emphasis on code clarity, it uses a clean syntax that makes it easy to learn and use, even for beginners.\n",
        "        1.\tEffectively data handling\n",
        "        2.\tAutomation of task\n",
        "        3.\tAdvance analytics capabilities\n",
        "        4.\tData visualization\n",
        "        5.\tML and AI\n",
        "        6.\tScalability\n",
        "        7.\tOpen source libraries\n",
        "        8.\tFlexibility across all the domains\n",
        "        9.\tCost efficiency\n",
        "        10.\tEnhance your carrier opportunities\n",
        "        \n"
      ],
      "metadata": {
        "id": "wbHR7MfV2NEY"
      }
    },
    {
      "cell_type": "markdown",
      "source": [
        "2. What is an interpreter in Python?\n",
        "  -> An interpreter is a program that reads and executes Python code line by line instead of compiling it all at once. This makes Python and interpreted language, meaning it can run scripts without needing a separate compliation step."
      ],
      "metadata": {
        "id": "qWT1O4sP33uY"
      }
    },
    {
      "cell_type": "markdown",
      "source": [
        "3.  What are pre-defined keywords in Python?\n",
        "   -> Pre-Defined keywords are reserved words that have specific meaning in the language and cannot be used as variable names, function names or other identifiers. There keywords define Python's syntax and structure.\n"
      ],
      "metadata": {
        "id": "bXrvjQbG4XHe"
      }
    },
    {
      "cell_type": "markdown",
      "source": [
        "4.  Can keywords be used as variable names?\n",
        "    -> No, keywords cannot be used as variable names in Python. Since keywords have predefined meanings and serve specific functions in the language, using them as variable names would cause syntax errors.\n",
        "  \n",
        "\n"
      ],
      "metadata": {
        "id": "ucI10hoc42Cb"
      }
    },
    {
      "cell_type": "markdown",
      "source": [
        "5. What is mutability in Python?\n",
        "  -> Mutability refers to  whether an objets valur can be changed after it has been created. It also defined as mutable objects and immutable objects."
      ],
      "metadata": {
        "id": "bCp4G04C5Sc8"
      }
    },
    {
      "cell_type": "markdown",
      "source": [
        "6. Why are lists mutable, but tuples are immutable?\n",
        "  -> Lists are designed to be dynamic, meaning they can grow, shrink and modify their elements. Internally Python stores lists in a way that allows elements to be changes without creating a new object. Wherein Tuples are meant to be static and hashable, meaning their contents are fixed once created. Their memorry structue prevents modifications, ensuring that they remain unchanges for efficient performance, especially when used as disctionary keys or in sets."
      ],
      "metadata": {
        "id": "y9WFH4mi5w7k"
      }
    },
    {
      "cell_type": "markdown",
      "source": [
        "7. What is the difference between “==” and “is” operators in Python?\n",
        "   -> In Python, == and is are both comparison operators, but they serve different purposes\n",
        "   1. == (Equality Operator)\n",
        "      - Checks whether two values are equal.\n",
        "      - Compares the actual contents of objects.\n",
        "      - Works with all data types.\n",
        "  2. is (Identity Operator)\n",
        "      - Checks whether two variables refer to the same object in memory.\n",
        "      - Compares object identities, not values.\n",
        "      - Used for checking None type or singleton objects.\n"
      ],
      "metadata": {
        "id": "7S_esKH46cpl"
      }
    },
    {
      "cell_type": "markdown",
      "source": [
        "8. What are logical operators in Python?\n",
        "   -> Logical operators in Python are used to perform boolean logic operations, which help in evaluating expressions and making decisions based on True or False values.\n",
        "   Types of Logical Operators\n",
        "    - and – Returns True if both conditions are true.\n",
        "    - or – Returns True if at least one condition is true.\n",
        "    - not – Negates the boolean value (True becomes False, False becomes True).\n"
      ],
      "metadata": {
        "id": "VTow5Mkm66PU"
      }
    },
    {
      "cell_type": "markdown",
      "source": [
        "9. What is type casting in Python?\n",
        "   -> Type casting in Python refers to converting one data type into another. It is useful when working with different types of values in a program.\n",
        "     Types of type casting\n",
        "     -- Implicit Type casting\n",
        "     -- Explicit Type casting\n",
        "     "
      ],
      "metadata": {
        "id": "GDFEBrJd7K7P"
      }
    },
    {
      "cell_type": "markdown",
      "source": [
        " 10. What is the difference between implicit and explicit type casting?\n",
        "    -> The difference between implicit and explicit type casting in Python lies in how the conversion happens—whether Python does it automatically or if the programmer has to manually specify the change.\n",
        "    1. Implicit Type Casting (Automatic)\n",
        "      - Python automatically converts data types when needed, ensuring smooth calculations without data loss.\n",
        "      - Used when converting a smaller type (e.g., int) to a larger type (e.g., float).\n",
        "   2. Explicit Type Casting (Manual)\n",
        "- The programmer manually converts one type to another using built-in functions like int(), float(), str(), etc.\n",
        "- Required when switching between incompatible types, like converting a string to a number.\n"
      ],
      "metadata": {
        "id": "gBeS2Yur7ybx"
      }
    },
    {
      "cell_type": "markdown",
      "source": [
        " 11. What is the purpose of conditional statements in Python?\n",
        "   -> Conditional statements in Python are used to make decisions in a program by executing different code depending on whether a condition is True or False.\n",
        "Purpose of Conditional Statements\n",
        "    - Control Flow: They allow the program to take different execution paths.\n",
        "    - Decision Making: Logic is applied to determine actions based on conditions.\n",
        "    - Efficient Execution: Prevent unnecessary computations and improve code efficiency\n",
        ""
      ],
      "metadata": {
        "id": "Ad9VKzqa8QDW"
      }
    },
    {
      "cell_type": "markdown",
      "source": [
        "12. How does the elif statement work?\n",
        "   -> The elif statement in Python is used to handle multiple conditions in a structured way. It stands for \"else if\" and allows the program to check several conditions one after another.\n",
        "     - The program evaluates conditions from top to bottom.\n",
        "     - If the if condition is True, its block runs and the rest are skipped.\n",
        "     - If the if condition is False, Python checks the elif conditions in order.\n",
        "     - If no conditions are met, the else block runs (if present).\n"
      ],
      "metadata": {
        "id": "JHOCNS6T8jnF"
      }
    },
    {
      "cell_type": "markdown",
      "metadata": {
        "id": "e3db1a78"
      },
      "source": [
        "13. What is the difference between for and while loops?\n",
        "    -> For loops and while loops are fundamental control flow structures in programming, enabling repetitive execution of code blocks. While they serve similar purposes, their usage and syntax differ significantly.\n",
        "\n",
        "A for loop is ideal when the number of iterations is known beforehand. It iterates over a sequence (like a list, tuple, or range) and executes the block of code for each element in the sequence. The loop variable takes the value of each item during each iteration.\n",
        "A while loop, on the other hand, is used when the number of iterations is not predetermined. It continues executing as long as a specified condition remains true. Care must be taken to ensure the condition eventually becomes false to avoid infinite loops.\n",
        "\n",
        "\n",
        "\n"
      ]
    },
    {
      "cell_type": "markdown",
      "source": [
        "14. Describe a scenario where a while loop is more suitable than a for loop?\n",
        "   -> A while loop is more suitable when the number of iterations is unknown beforehand and depends on a condition being met dynamically.\n",
        "\n",
        "   \n",
        "   correct_password = \"python123\"\n",
        "user_input = \"\"\n",
        "\n",
        "while user_input != correct_password:\n",
        "    user_input = input(\"Enter your password: \")\n",
        "    if user_input == correct_password:\n",
        "        print(\"Access granted!\")\n",
        "    else:\n",
        "        print(\"Wrong password, try again.\")"
      ],
      "metadata": {
        "id": "SA6hfkO0-LNh"
      }
    },
    {
      "cell_type": "markdown",
      "source": [
        "#Practical questions"
      ],
      "metadata": {
        "id": "lE8p3uPJ-o8H"
      }
    },
    {
      "cell_type": "code",
      "metadata": {
        "colab": {
          "base_uri": "https://localhost:8080/"
        },
        "id": "cfabe04b",
        "outputId": "32e6a0b9-ed02-4837-b649-11a4116225c5"
      },
      "source": [
        "print(\"Hello, World!\")"
      ],
      "execution_count": 15,
      "outputs": [
        {
          "output_type": "stream",
          "name": "stdout",
          "text": [
            "Hello, World!\n"
          ]
        }
      ]
    },
    {
      "cell_type": "code",
      "source": [
        "# Define name and age variables\n",
        "name = \"Deependra singh\"  # Replace with your name\n",
        "age = 29           # Replace with your age\n",
        "\n",
        "# Print the output\n",
        "print(\"My name is\", name)\n",
        "print(\"I am\", age, \"years old\")"
      ],
      "metadata": {
        "colab": {
          "base_uri": "https://localhost:8080/"
        },
        "id": "oLe8KgmVBNe7",
        "outputId": "53f2929b-755e-449b-e0ff-cbad807a3252"
      },
      "execution_count": 16,
      "outputs": [
        {
          "output_type": "stream",
          "name": "stdout",
          "text": [
            "My name is Deependra singh\n",
            "I am 29 years old\n"
          ]
        }
      ]
    },
    {
      "cell_type": "code",
      "source": [
        "import keyword  # Import the keyword module\n",
        "\n",
        "# Print all Python keywords\n",
        "print('False', 'class', 'continue', 'def', 'del', 'elif', 'else', 'except', 'finally', 'for', 'from', 'global', 'if', 'import', 'in', 'is', 'lambda', 'nonlocal', 'not', 'or', 'pass', 'raise', 'return', 'try', 'while', 'with', 'yield')\n",
        "print(keyword.kwlist)"
      ],
      "metadata": {
        "colab": {
          "base_uri": "https://localhost:8080/"
        },
        "id": "YG3aGT6dBiPf",
        "outputId": "1254f6e7-7812-4af5-bd3e-48a601c180ef"
      },
      "execution_count": 19,
      "outputs": [
        {
          "output_type": "stream",
          "name": "stdout",
          "text": [
            "False class continue def del elif else except finally for from global if import in is lambda nonlocal not or pass raise return try while with yield\n",
            "['False', 'None', 'True', 'and', 'as', 'assert', 'async', 'await', 'break', 'class', 'continue', 'def', 'del', 'elif', 'else', 'except', 'finally', 'for', 'from', 'global', 'if', 'import', 'in', 'is', 'lambda', 'nonlocal', 'not', 'or', 'pass', 'raise', 'return', 'try', 'while', 'with', 'yield']\n"
          ]
        }
      ]
    },
    {
      "cell_type": "code",
      "source": [
        "import keyword  # Import the keyword module\n",
        "\n",
        "# Get user input\n",
        "word = input(\"Hello\")\n",
        "\n",
        "# Check if the word is a Python keyword\n",
        "if keyword.iskeyword(word):\n",
        "    print(f\"'{word}' is a Python keyword.\")\n",
        "else:\n",
        "    print(f\"'{word}' is NOT a Python keyword.\")"
      ],
      "metadata": {
        "colab": {
          "base_uri": "https://localhost:8080/"
        },
        "id": "whYO51BjCYHJ",
        "outputId": "de2abb17-9a66-48f2-a98d-81ec452d74a8"
      },
      "execution_count": 21,
      "outputs": [
        {
          "output_type": "stream",
          "name": "stdout",
          "text": [
            "Hello1\n",
            "'1' is NOT a Python keyword.\n"
          ]
        }
      ]
    },
    {
      "cell_type": "code",
      "source": [
        "# Creating a list (mutable)\n",
        "my_list = [1, 2, 3]\n",
        "print(\"Original list:\", my_list)\n",
        "\n",
        "# Modifying an element in the list\n",
        "my_list[0] = 99  # Allowed! Lists are mutable\n",
        "print(\"Modified list:\", my_list)\n",
        "\n",
        "# Creating a tuple (immutable)\n",
        "my_tuple = (1, 2, 3)\n",
        "print(\"\\nOriginal tuple:\", my_tuple)\n",
        "\n",
        "# Attempting to modify an element in the tuple\n",
        "try:\n",
        "    my_tuple[0] = 99  # Error! Tuples are immutable\n",
        "except TypeError as e:\n",
        "    print(\"Error:\", e)"
      ],
      "metadata": {
        "colab": {
          "base_uri": "https://localhost:8080/"
        },
        "id": "Oz24_P9-DBtM",
        "outputId": "61abbdb3-1981-4c71-e09b-038e9a08e663"
      },
      "execution_count": 22,
      "outputs": [
        {
          "output_type": "stream",
          "name": "stdout",
          "text": [
            "Original list: [1, 2, 3]\n",
            "Modified list: [99, 2, 3]\n",
            "\n",
            "Original tuple: (1, 2, 3)\n",
            "Error: 'tuple' object does not support item assignment\n"
          ]
        }
      ]
    },
    {
      "cell_type": "code",
      "source": [
        "def modify_values(mutable_obj, immutable_obj):\n",
        "    # Modifying the mutable object (list)\n",
        "    mutable_obj.append(99)  # Allowed! Lists are mutable\n",
        "    print(\"Inside function (mutable):\", mutable_obj)\n",
        "\n",
        "    # Trying to modify the immutable object (integer)\n",
        "    immutable_obj += 10  # Creates a new integer object instead of modifying the original\n",
        "    print(\"Inside function (immutable):\", immutable_obj)\n",
        "\n",
        "# Initial values\n",
        "my_list = [1, 2, 3]  # Mutable object (list)\n",
        "my_int = 5           # Immutable object (integer)\n",
        "\n",
        "# Calling the function\n",
        "modify_values(my_list, my_int)\n",
        "\n",
        "# Checking values after function execution\n",
        "print(\"Outside function (mutable):\", my_list)  # List is modified!\n",
        "print(\"Outside function (immutable):\", my_int)  # Integer remains unchanged!"
      ],
      "metadata": {
        "colab": {
          "base_uri": "https://localhost:8080/"
        },
        "id": "p-QcHxD_Ctpx",
        "outputId": "885ac87c-0e76-4ad4-ec4b-3b987f386df0"
      },
      "execution_count": 23,
      "outputs": [
        {
          "output_type": "stream",
          "name": "stdout",
          "text": [
            "Inside function (mutable): [1, 2, 3, 99]\n",
            "Inside function (immutable): 15\n",
            "Outside function (mutable): [1, 2, 3, 99]\n",
            "Outside function (immutable): 5\n"
          ]
        }
      ]
    },
    {
      "cell_type": "code",
      "source": [
        "# Get user input\n",
        "num1 = float(input(\"Enter the first number: \"))\n",
        "num2 = float(input(\"Enter the second number: \"))\n",
        "\n",
        "# Perform arithmetic operations\n",
        "print(\"\\nResults:\")\n",
        "print(\"Addition:\", num1 + num2)\n",
        "print(\"Subtraction:\", num1 - num2)\n",
        "print(\"Multiplication:\", num1 * num2)\n",
        "\n",
        "# Handling division to avoid ZeroDivisionError\n",
        "if num2 != 0:\n",
        "    print(\"Division:\", num1 / num2)\n",
        "else:\n",
        "    print(\"Division: Error! Cannot divide by zero.\")"
      ],
      "metadata": {
        "colab": {
          "base_uri": "https://localhost:8080/"
        },
        "id": "M7DuB8ozDN8P",
        "outputId": "82fce3db-f241-46dc-d0d4-63fb67ac2bf5"
      },
      "execution_count": 24,
      "outputs": [
        {
          "output_type": "stream",
          "name": "stdout",
          "text": [
            "Enter the first number: 90\n",
            "Enter the second number: 60\n",
            "\n",
            "Results:\n",
            "Addition: 150.0\n",
            "Subtraction: 30.0\n",
            "Multiplication: 5400.0\n",
            "Division: 1.5\n"
          ]
        }
      ]
    },
    {
      "cell_type": "code",
      "source": [
        "# Get user input\n",
        "a = int(input(\"Enter the first number: \"))\n",
        "b = int(input(\"Enter the second number: \"))\n",
        "\n",
        "# Logical Operations\n",
        "print(\"\\nLogical Operator Results:\")\n",
        "print(\"Both numbers are greater than 10:\", a > 10 and b > 10)  # Using 'and'\n",
        "print(\"At least one number is greater than 10:\", a > 10 or b > 10)  # Using 'or'\n",
        "print(\"The first number is NOT greater than 10:\", not (a > 10))  # Using 'not'"
      ],
      "metadata": {
        "colab": {
          "base_uri": "https://localhost:8080/"
        },
        "id": "DrTZUCKtDrHB",
        "outputId": "e0e35eea-855f-489c-b7b5-87353fa18aca"
      },
      "execution_count": 25,
      "outputs": [
        {
          "output_type": "stream",
          "name": "stdout",
          "text": [
            "Enter the first number: 15\n",
            "Enter the second number: 5\n",
            "\n",
            "Logical Operator Results:\n",
            "Both numbers are greater than 10: False\n",
            "At least one number is greater than 10: True\n",
            "The first number is NOT greater than 10: False\n"
          ]
        }
      ]
    },
    {
      "cell_type": "code",
      "source": [
        "# Get user input\n",
        "user_input = input(\"Enter a value: \")\n",
        "\n",
        "# Convert to integer\n",
        "try:\n",
        "    int_value = int(user_input)\n",
        "    print(\"Integer:\", int_value)\n",
        "except ValueError:\n",
        "    print(\"Cannot convert to an integer.\")\n",
        "\n",
        "# Convert to float\n",
        "try:\n",
        "    float_value = float(user_input)\n",
        "    print(\"Float:\", float_value)\n",
        "except ValueError:\n",
        "    print(\"Cannot convert to a float.\")\n",
        "\n",
        "# Convert to boolean\n",
        "bool_value = bool(user_input)  # Non-empty strings are True; empty strings are False\n",
        "print(\"Boolean:\", bool_value)"
      ],
      "metadata": {
        "colab": {
          "base_uri": "https://localhost:8080/"
        },
        "id": "0fv9-HZODZKY",
        "outputId": "db95badc-6bab-4a1e-93d7-6dac2ed06a3b"
      },
      "execution_count": 26,
      "outputs": [
        {
          "output_type": "stream",
          "name": "stdout",
          "text": [
            "Enter a value: 25\n",
            "Integer: 25\n",
            "Float: 25.0\n",
            "Boolean: True\n"
          ]
        }
      ]
    },
    {
      "cell_type": "code",
      "source": [
        "# Original list with string numbers\n",
        "string_list = [\"10\", \"20\", \"30\", \"40\"]\n",
        "\n",
        "# Converting string elements to integers\n",
        "int_list = [int(x) for x in string_list]\n",
        "print(\"Integer list:\", int_list)\n",
        "\n",
        "# Converting integer elements to floats\n",
        "float_list = [float(x) for x in int_list]\n",
        "print(\"Float list:\", float_list)\n",
        "\n",
        "# Converting integer elements to booleans\n",
        "bool_list = [bool(x) for x in int_list]\n",
        "print(\"Boolean list:\", bool_list)"
      ],
      "metadata": {
        "colab": {
          "base_uri": "https://localhost:8080/"
        },
        "id": "BaYIYHVqD9ud",
        "outputId": "63364789-424d-4323-f794-c87e1019dc97"
      },
      "execution_count": 27,
      "outputs": [
        {
          "output_type": "stream",
          "name": "stdout",
          "text": [
            "Integer list: [10, 20, 30, 40]\n",
            "Float list: [10.0, 20.0, 30.0, 40.0]\n",
            "Boolean list: [True, True, True, True]\n"
          ]
        }
      ]
    },
    {
      "cell_type": "code",
      "source": [
        "# Get user input\n",
        "num = float(input(\"Enter a number: \"))\n",
        "\n",
        "# Check the condition\n",
        "if num > 0:\n",
        "    print(\"The number is positive.\")\n",
        "elif num < 0:\n",
        "    print(\"The number is negative.\")\n",
        "else:\n",
        "    print(\"The number is zero.\")"
      ],
      "metadata": {
        "colab": {
          "base_uri": "https://localhost:8080/"
        },
        "id": "8g5xVOdMERN1",
        "outputId": "163ba992-de06-4e1d-d854-5a59ca3e2928"
      },
      "execution_count": 28,
      "outputs": [
        {
          "output_type": "stream",
          "name": "stdout",
          "text": [
            "Enter a number: 88\n",
            "The number is positive.\n"
          ]
        }
      ]
    },
    {
      "cell_type": "code",
      "source": [
        "for i in range(1, 11):  # Loops from 1 to 10\n",
        "    print(i)"
      ],
      "metadata": {
        "colab": {
          "base_uri": "https://localhost:8080/"
        },
        "id": "M-DKsxAXEZrO",
        "outputId": "72095b29-0605-439e-a8f3-a207a2555c8e"
      },
      "execution_count": 29,
      "outputs": [
        {
          "output_type": "stream",
          "name": "stdout",
          "text": [
            "1\n",
            "2\n",
            "3\n",
            "4\n",
            "5\n",
            "6\n",
            "7\n",
            "8\n",
            "9\n",
            "10\n"
          ]
        }
      ]
    },
    {
      "cell_type": "code",
      "source": [
        "# Initialize sum variable\n",
        "even_sum = 0\n",
        "\n",
        "# Loop through numbers from 1 to 50\n",
        "for num in range(2, 51, 2):  # Step of 2 ensures only even numbers\n",
        "    even_sum += num\n",
        "\n",
        "# Print the result\n",
        "print(\"Sum of all even numbers between 1 and 50:\", even_sum)"
      ],
      "metadata": {
        "colab": {
          "base_uri": "https://localhost:8080/"
        },
        "id": "OqnkgwFzEt_D",
        "outputId": "85acf6b3-c545-4ab5-a9ad-abae540c86cf"
      },
      "execution_count": 30,
      "outputs": [
        {
          "output_type": "stream",
          "name": "stdout",
          "text": [
            "Sum of all even numbers between 1 and 50: 650\n"
          ]
        }
      ]
    },
    {
      "cell_type": "code",
      "source": [
        "# Get user input\n",
        "user_string = input(\"Enter a string: \")\n",
        "\n",
        "# Initialize variables\n",
        "reversed_string = \"\"\n",
        "index = len(user_string) - 1  # Start from the last character\n",
        "\n",
        "# Reverse using while loop\n",
        "while index >= 0:\n",
        "    reversed_string += user_string[index]  # Append each character from the end\n",
        "    index -= 1  # Move backward\n",
        "\n",
        "# Print the reversed string\n",
        "print(\"Reversed string:\", reversed_string)"
      ],
      "metadata": {
        "colab": {
          "base_uri": "https://localhost:8080/"
        },
        "id": "XgOunmpvEin9",
        "outputId": "670ff3c9-89d9-43fd-f2a4-1af41deb0594"
      },
      "execution_count": 31,
      "outputs": [
        {
          "output_type": "stream",
          "name": "stdout",
          "text": [
            "Enter a string: Ajay\n",
            "Reversed string: yajA\n"
          ]
        }
      ]
    },
    {
      "cell_type": "code",
      "source": [
        "# Get user input\n",
        "num = int(input(\"Enter a number: \"))\n",
        "\n",
        "# Initialize factorial result\n",
        "factorial = 1\n",
        "counter = num  # Start from the given number\n",
        "\n",
        "# Calculate factorial using while loop\n",
        "while counter > 0:\n",
        "    factorial *= counter  # Multiply current number\n",
        "    counter -= 1  # Decrease counter\n",
        "\n",
        "# Print the result\n",
        "print(f\"The factorial of {num} is {factorial}\")"
      ],
      "metadata": {
        "colab": {
          "base_uri": "https://localhost:8080/"
        },
        "id": "IyvbnVOqE2bs",
        "outputId": "003e59b1-8008-4c58-dbea-888b028d2172"
      },
      "execution_count": 32,
      "outputs": [
        {
          "output_type": "stream",
          "name": "stdout",
          "text": [
            "Enter a number: 55\n",
            "The factorial of 55 is 12696403353658275925965100847566516959580321051449436762275840000000000000\n"
          ]
        }
      ]
    },
    {
      "cell_type": "code",
      "source": [],
      "metadata": {
        "id": "PZMB69xBFDBl"
      },
      "execution_count": null,
      "outputs": []
    }
  ]
}